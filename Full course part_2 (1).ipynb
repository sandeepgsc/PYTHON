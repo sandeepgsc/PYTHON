{
 "cells": [
  {
   "cell_type": "code",
   "execution_count": 2,
   "id": "compliant-quantity",
   "metadata": {},
   "outputs": [
    {
     "name": "stdout",
     "output_type": "stream",
     "text": [
      "10\n"
     ]
    }
   ],
   "source": [
    "class rectangle():\n",
    "    a = 10\n",
    "    def fun():\n",
    "        print(\" FUnction \")\n",
    "obj = rectangle()\n",
    "print(obj.a)"
   ]
  },
  {
   "cell_type": "code",
   "execution_count": 3,
   "id": "early-german",
   "metadata": {},
   "outputs": [
    {
     "name": "stdout",
     "output_type": "stream",
     "text": [
      "10\n"
     ]
    },
    {
     "ename": "TypeError",
     "evalue": "fun() takes 0 positional arguments but 1 was given",
     "output_type": "error",
     "traceback": [
      "\u001b[1;31m---------------------------------------------------------------------------\u001b[0m",
      "\u001b[1;31mTypeError\u001b[0m                                 Traceback (most recent call last)",
      "\u001b[1;32m<ipython-input-3-748b0d8adb81>\u001b[0m in \u001b[0;36m<module>\u001b[1;34m\u001b[0m\n\u001b[0;32m      6\u001b[0m \u001b[0mobj\u001b[0m \u001b[1;33m=\u001b[0m \u001b[0mrectangle\u001b[0m\u001b[1;33m(\u001b[0m\u001b[1;33m)\u001b[0m\u001b[1;33m\u001b[0m\u001b[1;33m\u001b[0m\u001b[0m\n\u001b[0;32m      7\u001b[0m \u001b[0mprint\u001b[0m\u001b[1;33m(\u001b[0m\u001b[0mobj\u001b[0m\u001b[1;33m.\u001b[0m\u001b[0ma\u001b[0m\u001b[1;33m)\u001b[0m\u001b[1;33m\u001b[0m\u001b[1;33m\u001b[0m\u001b[0m\n\u001b[1;32m----> 8\u001b[1;33m \u001b[0mprint\u001b[0m\u001b[1;33m(\u001b[0m\u001b[0mobj\u001b[0m\u001b[1;33m.\u001b[0m\u001b[0mfun\u001b[0m\u001b[1;33m(\u001b[0m\u001b[1;33m)\u001b[0m\u001b[1;33m)\u001b[0m\u001b[1;33m\u001b[0m\u001b[1;33m\u001b[0m\u001b[0m\n\u001b[0m",
      "\u001b[1;31mTypeError\u001b[0m: fun() takes 0 positional arguments but 1 was given"
     ]
    }
   ],
   "source": [
    "class rectangle():\n",
    "    a = 10   #global variables\n",
    "    def fun():\n",
    "        b = 20\n",
    "        print(\" value of b is = \" ,b)\n",
    "obj = rectangle()\n",
    "print(obj.a)\n",
    "print(obj.fun())"
   ]
  },
  {
   "cell_type": "code",
   "execution_count": 8,
   "id": "aquatic-coordinator",
   "metadata": {},
   "outputs": [
    {
     "name": "stdout",
     "output_type": "stream",
     "text": [
      "10\n",
      "value of b is =  20\n"
     ]
    }
   ],
   "source": [
    "class rectangle():\n",
    "    a = 10   #global variables\n",
    "    def fun(self):  #(obj)# self will perform like a object \n",
    "        b = 20\n",
    "        print(\"value of b is = \" ,b)\n",
    "obj = rectangle()\n",
    "print(obj.a)\n",
    "obj.fun()"
   ]
  },
  {
   "cell_type": "code",
   "execution_count": 11,
   "id": "separated-kazakhstan",
   "metadata": {},
   "outputs": [
    {
     "name": "stdout",
     "output_type": "stream",
     "text": [
      "10\n",
      "30\n",
      "20\n",
      "100\n"
     ]
    }
   ],
   "source": [
    "# class definition\n",
    "class Rectangle():\n",
    "    pass\n",
    "#   length  = 10\n",
    "     # breadth = 30\n",
    "    \n",
    "\n",
    "# creating objects of class Rectangle  (object -> instance )\n",
    "rc1 = Rectangle()\n",
    "rc2 = Rectangle()\n",
    "\n",
    "# defining attributes for rc1 object\n",
    "rc1.length = 10\n",
    "rc1.breadth = 30\n",
    "\n",
    "# defining attributes for rc2 object\n",
    "rc2.breadth = 20\n",
    "rc2.length = 100\n",
    "\n",
    "\n",
    "print(rc1.length)\n",
    "print(rc1.breadth)\n",
    "print(rc2.breadth)\n",
    "print(rc2.length)"
   ]
  },
  {
   "cell_type": "code",
   "execution_count": 16,
   "id": "controlled-surface",
   "metadata": {},
   "outputs": [
    {
     "name": "stdout",
     "output_type": "stream",
     "text": [
      "Length value =  10\n",
      "Breadth value =  30\n",
      "the area of rectangle =  300\n"
     ]
    }
   ],
   "source": [
    "class rectangle():\n",
    "    length = 10\n",
    "    breadth = 30\n",
    "    def fun(self): # obj\n",
    "        return self.length * self.breadth\n",
    "\n",
    "obj = rectangle()\n",
    "print(\"Length value = \",obj.length)\n",
    "print(\"Breadth value = \",obj.breadth)\n",
    "print(\"the area of rectangle = \",obj.fun())"
   ]
  },
  {
   "cell_type": "code",
   "execution_count": 17,
   "id": "drawn-shipping",
   "metadata": {},
   "outputs": [
    {
     "name": "stdout",
     "output_type": "stream",
     "text": [
      "Length value =  10\n",
      "Breadth value =  30\n",
      "the area of rectangle =  300\n"
     ]
    }
   ],
   "source": [
    "class rectangle():\n",
    "    length = 10\n",
    "    breadth = 30\n",
    "    def fun(self , a , b): # obj\n",
    "        return a * b\n",
    "\n",
    "obj = rectangle()\n",
    "print(\"Length value = \",obj.length)\n",
    "print(\"Breadth value = \",obj.breadth)\n",
    "print(\"the area of rectangle = \",obj.fun(10 , 30))"
   ]
  },
  {
   "cell_type": "code",
   "execution_count": 22,
   "id": "separate-heading",
   "metadata": {},
   "outputs": [
    {
     "name": "stdout",
     "output_type": "stream",
     "text": [
      "10\n",
      " with class name =  10\n"
     ]
    }
   ],
   "source": [
    "class fun():\n",
    "    a = 10\n",
    "obj = fun()\n",
    "print(obj.a)\n",
    "\n",
    "print(\"with class name = \",fun.a)"
   ]
  },
  {
   "cell_type": "markdown",
   "id": "alpine-sweet",
   "metadata": {},
   "source": [
    "### static methods and non static methods"
   ]
  },
  {
   "cell_type": "code",
   "execution_count": 23,
   "id": "ancient-vintage",
   "metadata": {},
   "outputs": [
    {
     "name": "stdout",
     "output_type": "stream",
     "text": [
      "k\n"
     ]
    }
   ],
   "source": [
    "## static methods -> can be access with the help of class and obj \n",
    "\n",
    "class kamal():\n",
    "    @staticmethod\n",
    "    def fun():\n",
    "        print('k')\n",
    "k = kamal()\n",
    "kamal.fun()"
   ]
  },
  {
   "cell_type": "code",
   "execution_count": 24,
   "id": "ecological-schema",
   "metadata": {},
   "outputs": [
    {
     "name": "stdout",
     "output_type": "stream",
     "text": [
      "k\n"
     ]
    }
   ],
   "source": [
    "class kamal():\n",
    "    @staticmethod\n",
    "    def fun():\n",
    "        print('k')\n",
    "k = kamal()\n",
    "k.fun()"
   ]
  },
  {
   "cell_type": "code",
   "execution_count": 25,
   "id": "sweet-merchant",
   "metadata": {},
   "outputs": [
    {
     "name": "stdout",
     "output_type": "stream",
     "text": [
      "Length value =  10\n",
      "Breadth value =  30\n",
      "the area of rectangle =  300\n"
     ]
    }
   ],
   "source": [
    "# non static methods -> which are executing only with obj name \n",
    "class rectangle():\n",
    "    length = 10\n",
    "    breadth = 30\n",
    "    def fun(self): # obj\n",
    "        return self.length * self.breadth\n",
    "\n",
    "obj = rectangle()\n",
    "print(\"Length value = \",obj.length)\n",
    "print(\"Breadth value = \",obj.breadth)\n",
    "print(\"the area of rectangle = \",obj.fun())"
   ]
  },
  {
   "cell_type": "markdown",
   "id": "moved-dialogue",
   "metadata": {},
   "source": [
    "### constructors "
   ]
  },
  {
   "cell_type": "code",
   "execution_count": 26,
   "id": "passive-announcement",
   "metadata": {},
   "outputs": [],
   "source": [
    "### constructor means -> which plays a key role to execute the class logic \n",
    "# the class name and the constructors are should be same \n",
    "# types of constructors \n",
    "\n",
    "#  1 . implicit constructors \n",
    "#  2 . Explicit constructors "
   ]
  },
  {
   "cell_type": "code",
   "execution_count": 27,
   "id": "together-tower",
   "metadata": {},
   "outputs": [
    {
     "name": "stdout",
     "output_type": "stream",
     "text": [
      "I am a function\n"
     ]
    }
   ],
   "source": [
    "def fun():\n",
    "    print(\"I am a function\")\n",
    "fun()"
   ]
  },
  {
   "cell_type": "code",
   "execution_count": 28,
   "id": "iraqi-eating",
   "metadata": {},
   "outputs": [
    {
     "name": "stdout",
     "output_type": "stream",
     "text": [
      "I am a constructor and i am executing \n"
     ]
    }
   ],
   "source": [
    "### Implicit constructos \n",
    "\n",
    "class kamal():\n",
    "    def __init__(self):  #constructor \n",
    "        print(\"I am a constructor and i am executing \")\n",
    "\n",
    "obj = kamal() # -> () is know as an constructors \n",
    "# whenever we are creating an object for a class automatically implicit constuctor will be called"
   ]
  },
  {
   "cell_type": "code",
   "execution_count": 30,
   "id": "parliamentary-spanish",
   "metadata": {},
   "outputs": [
    {
     "name": "stdout",
     "output_type": "stream",
     "text": [
      "Elon Musk\n",
      " value of a is =  10\n",
      " value of b is =  20\n"
     ]
    }
   ],
   "source": [
    "### Explicit constructor \n",
    "\n",
    "class kamal():\n",
    "    a = 10\n",
    "    b = 20\n",
    "    def __init__(self , name):  # name = elon musk \n",
    "        self.f = name\n",
    "        print(self.f)\n",
    "        \n",
    "\n",
    "obj = kamal(\"Elon Musk\")\n",
    "print(\" value of a is = \",obj.a)\n",
    "print(\" value of b is = \",obj.b)\n"
   ]
  },
  {
   "cell_type": "code",
   "execution_count": 33,
   "id": "quick-offense",
   "metadata": {},
   "outputs": [
    {
     "name": "stdout",
     "output_type": "stream",
     "text": [
      "2\n"
     ]
    },
    {
     "data": {
      "text/plain": [
       "12"
      ]
     },
     "execution_count": 33,
     "metadata": {},
     "output_type": "execute_result"
    }
   ],
   "source": [
    "class Rectangle():\n",
    "    def __init__(self, l, b):  # l = 2 , b = 4\n",
    "        self.f = l  # f = 2\n",
    "        self.g = b  # g = 4\n",
    "\n",
    "    def getArea(self):\n",
    "        return self.f * self.g\n",
    "\n",
    "    def getPerimeter(self):\n",
    "        return 2*(self.f + self.g)\n",
    "\n",
    "rect = Rectangle(2,4)\n",
    "print(rect.f)\n",
    "#rect.getArea()\n",
    "#print(rect.getArea())\n",
    "rect.getPerimeter()"
   ]
  },
  {
   "cell_type": "markdown",
   "id": "molecular-lithuania",
   "metadata": {},
   "source": [
    "### Inheritance "
   ]
  },
  {
   "cell_type": "raw",
   "id": "chubby-electricity",
   "metadata": {},
   "source": [
    "Basically inheritance are 5 types\n",
    "1 . Single Inheritance -> one child and one parent class will be there \n",
    "2 . Multi Level Inheritance \n",
    "3 . Hirarical Inheritance \n",
    "4.  Multiple Inheritance\n",
    "5 . Hybrid Inheritance \n",
    "\n",
    "it follows mostly 2 techniques  -> 1 . parent class\n",
    "                                   2 . child class"
   ]
  },
  {
   "cell_type": "markdown",
   "id": "placed-rolling",
   "metadata": {},
   "source": [
    "### Single Inheritance"
   ]
  },
  {
   "cell_type": "code",
   "execution_count": 5,
   "id": "cubic-trance",
   "metadata": {},
   "outputs": [
    {
     "name": "stdout",
     "output_type": "stream",
     "text": [
      "Yes I am belongs to parent category\n",
      "Yes I am belongs to child class \n"
     ]
    }
   ],
   "source": [
    "class parent:\n",
    "    def parentfunction(self):\n",
    "        print(\"Yes I am belongs to parent category\")\n",
    "class child:\n",
    "    def childfunction(self):\n",
    "        print(\"Yes I am belongs to child class \")\n",
    "\n",
    "parentobj = parent()\n",
    "childobj = child()\n",
    "parentobj.parentfunction()\n",
    "childobj.childfunction()"
   ]
  },
  {
   "cell_type": "code",
   "execution_count": 8,
   "id": "altered-diabetes",
   "metadata": {},
   "outputs": [
    {
     "name": "stdout",
     "output_type": "stream",
     "text": [
      "Yes I am belongs to parent category\n",
      "Yes I am belongs to child class \n"
     ]
    }
   ],
   "source": [
    "class parent:\n",
    "    def parentfunction(self):\n",
    "        print(\"Yes I am belongs to parent category\")\n",
    "\n",
    "class child(parent):\n",
    "    def childfunction(self):\n",
    "        print(\"Yes I am belongs to child class \")\n",
    "\n",
    "parentobj = parent()\n",
    "childobj = child()\n",
    "\n",
    "\n",
    "\n",
    "childobj.parentfunction()\n",
    "childobj.childfunction()"
   ]
  },
  {
   "cell_type": "code",
   "execution_count": 9,
   "id": "elect-attendance",
   "metadata": {},
   "outputs": [
    {
     "name": "stdout",
     "output_type": "stream",
     "text": [
      "Yes I am belongs to parent category\n"
     ]
    },
    {
     "ename": "AttributeError",
     "evalue": "'parent' object has no attribute 'childfunction'",
     "output_type": "error",
     "traceback": [
      "\u001b[1;31m---------------------------------------------------------------------------\u001b[0m",
      "\u001b[1;31mAttributeError\u001b[0m                            Traceback (most recent call last)",
      "\u001b[1;32m<ipython-input-9-1dcae1c7dba4>\u001b[0m in \u001b[0;36m<module>\u001b[1;34m\u001b[0m\n\u001b[0;32m     13\u001b[0m \u001b[1;33m\u001b[0m\u001b[0m\n\u001b[0;32m     14\u001b[0m \u001b[0mchildobj\u001b[0m\u001b[1;33m.\u001b[0m\u001b[0mparentfunction\u001b[0m\u001b[1;33m(\u001b[0m\u001b[1;33m)\u001b[0m\u001b[1;33m\u001b[0m\u001b[1;33m\u001b[0m\u001b[0m\n\u001b[1;32m---> 15\u001b[1;33m \u001b[0mparentobj\u001b[0m\u001b[1;33m.\u001b[0m\u001b[0mchildfunction\u001b[0m\u001b[1;33m(\u001b[0m\u001b[1;33m)\u001b[0m\u001b[1;33m\u001b[0m\u001b[1;33m\u001b[0m\u001b[0m\n\u001b[0m",
      "\u001b[1;31mAttributeError\u001b[0m: 'parent' object has no attribute 'childfunction'"
     ]
    }
   ],
   "source": [
    "class parent:\n",
    "    def parentfunction(self):\n",
    "        print(\"Yes I am belongs to parent category\")\n",
    "\n",
    "class child(parent):\n",
    "    def childfunction(self):\n",
    "        print(\"Yes I am belongs to child class \")\n",
    "\n",
    "parentobj = parent()\n",
    "childobj = child()\n",
    "\n",
    "\n",
    "\n",
    "childobj.parentfunction()\n",
    "parentobj.childfunction()"
   ]
  },
  {
   "cell_type": "markdown",
   "id": "surface-father",
   "metadata": {},
   "source": [
    "### Multiple Inheritance "
   ]
  },
  {
   "cell_type": "code",
   "execution_count": 11,
   "id": "funky-anthony",
   "metadata": {},
   "outputs": [
    {
     "name": "stdout",
     "output_type": "stream",
     "text": [
      "Father : RAM\n",
      "Mother : SITA\n"
     ]
    }
   ],
   "source": [
    "# Python program to demonstrate\n",
    "# multiple inheritance\n",
    "\n",
    "\n",
    "# Base class1\n",
    "class Mother:\n",
    "\tmothername = \"\"\n",
    "\tdef mother(self):\n",
    "\t\tprint(self.mothername)\n",
    "\n",
    "# Base class2\n",
    "class Father:\n",
    "\tfathername = \"\"\n",
    "\tdef father(self):\n",
    "\t\tprint(self.fathername)\n",
    "\n",
    "# Derived class\n",
    "class Son(Mother, Father):\n",
    "\tdef parents(self):\n",
    "\t\tprint(\"Father :\", self.fathername)\n",
    "\t\tprint(\"Mother :\", self.mothername)\n",
    "\n",
    "# Driver's code\n",
    "s1 = Son()\n",
    "s1.fathername = \"RAM\"\n",
    "s1.mothername = \"SITA\"\n",
    "s1.parents()\n"
   ]
  },
  {
   "cell_type": "code",
   "execution_count": 10,
   "id": "widespread-topic",
   "metadata": {},
   "outputs": [
    {
     "name": "stdout",
     "output_type": "stream",
     "text": [
      "I am parent1\n",
      "I am parent2\n",
      "I am child class\n"
     ]
    }
   ],
   "source": [
    "class parent1:\n",
    "    def parent1(self):\n",
    "        print(\"I am parent1\")\n",
    "class parent2:\n",
    "    def parent2(self):\n",
    "        print(\"I am parent2\")\n",
    "class child(parent1,parent2):\n",
    "    def childfun(self):\n",
    "        print(\"I am child class\")\n",
    "childobj = child()\n",
    "childobj.parent1()\n",
    "childobj.parent2()\n",
    "childobj.childfun()"
   ]
  },
  {
   "cell_type": "markdown",
   "id": "powerful-nashville",
   "metadata": {},
   "source": [
    "### Multi level Inheritance "
   ]
  },
  {
   "cell_type": "code",
   "execution_count": 15,
   "id": "objective-chemical",
   "metadata": {},
   "outputs": [
    {
     "name": "stdout",
     "output_type": "stream",
     "text": [
      "I am child 2\n",
      "I am child 1\n",
      "I am parent class\n",
      "\n",
      "I am child 1\n",
      "I am parent class\n"
     ]
    }
   ],
   "source": [
    "class parent:\n",
    "    def parent(self):\n",
    "        print(\"I am parent class\")\n",
    "class child1(parent):\n",
    "    def child1(self):\n",
    "        print(\"I am child 1\")\n",
    "class child2(child1):\n",
    "    def child2(self):\n",
    "        print(\"I am child 2\")\n",
    "\n",
    "child2obj = child2()\n",
    "child2obj.child2()\n",
    "child2obj.child1()\n",
    "child2obj.parent()\n",
    "\n",
    "print()\n",
    "\n",
    "child1obj = child1()\n",
    "child1obj.child1()\n",
    "child1obj.parent()\n"
   ]
  },
  {
   "cell_type": "markdown",
   "id": "present-consensus",
   "metadata": {},
   "source": [
    "#### Hirarical Inheritance "
   ]
  },
  {
   "cell_type": "code",
   "execution_count": 16,
   "id": "coated-absolute",
   "metadata": {},
   "outputs": [
    {
     "name": "stdout",
     "output_type": "stream",
     "text": [
      "I am child 2\n",
      "I am parent class\n",
      "\n",
      "I am child 1\n",
      "I am parent class\n"
     ]
    }
   ],
   "source": [
    "class parent:\n",
    "    def parent(self):\n",
    "        print(\"I am parent class\")\n",
    "class child1(parent):\n",
    "    def child1(self):\n",
    "        print(\"I am child 1\")\n",
    "class child2(parent):\n",
    "    def child2(self):\n",
    "        print(\"I am child 2\")\n",
    "\n",
    "child2obj = child2()\n",
    "child2obj.child2()\n",
    "child2obj.parent()\n",
    "\n",
    "print()\n",
    "\n",
    "child1obj = child1()\n",
    "child1obj.child1()\n",
    "child1obj.parent()\n"
   ]
  },
  {
   "cell_type": "markdown",
   "id": "running-barrier",
   "metadata": {},
   "source": [
    "### Hybrid Inheritance "
   ]
  },
  {
   "cell_type": "code",
   "execution_count": 22,
   "id": "canadian-roommate",
   "metadata": {},
   "outputs": [
    {
     "name": "stdout",
     "output_type": "stream",
     "text": [
      "I am child 3 implicit constructor\n",
      "I am child3\n",
      "I am child 2\n",
      "I am child 1\n",
      "I am parent class\n",
      "\n",
      "I am child 2\n",
      "I am parent class\n",
      "\n",
      "I am child 1\n",
      "I am parent class\n"
     ]
    }
   ],
   "source": [
    "class parent:\n",
    "    def parent(self):\n",
    "        print(\"I am parent class\")\n",
    "class child1(parent):\n",
    "    def child1(self):\n",
    "        print(\"I am child 1\")\n",
    "class child2(parent):\n",
    "    def child2(self):\n",
    "        print(\"I am child 2\")\n",
    "class child3(child2,child1):\n",
    "    def __init__(self):\n",
    "        print(\"I am child 3 implicit constructor\")\n",
    "    def child3(self):\n",
    "        print(\"I am child3\")\n",
    "\n",
    "child3obj = child3()\n",
    "\n",
    "child3obj.child3()\n",
    "child3obj.child2()\n",
    "child3obj.child1()\n",
    "child3obj.parent()\n",
    "\n",
    "print()\n",
    "\n",
    "\n",
    "child2obj = child2()\n",
    "\n",
    "child2obj.child2()\n",
    "child2obj.parent()\n",
    "\n",
    "print()\n",
    "\n",
    "\n",
    "child1obj = child1()\n",
    "\n",
    "child1obj.child1()\n",
    "child1obj.parent()\n",
    "\n",
    "\n",
    "\n"
   ]
  },
  {
   "cell_type": "markdown",
   "id": "operating-blanket",
   "metadata": {},
   "source": [
    "### Polymorphisam "
   ]
  },
  {
   "cell_type": "raw",
   "id": "aerial-profile",
   "metadata": {},
   "source": [
    "Polymorphisam means -> Poly + morphisam \n",
    "\n",
    "                       poly  means =  Many\n",
    "                       morphisam means = forms\n",
    "                       \n",
    "They are two types of techniques \n",
    "\n",
    "1 . Method overloading -> only one method we are using many times \n",
    "2 . method overridding -> parent class fun can be changed using child class"
   ]
  },
  {
   "cell_type": "markdown",
   "id": "running-plaintiff",
   "metadata": {},
   "source": [
    "### Method Overridding "
   ]
  },
  {
   "cell_type": "code",
   "execution_count": 23,
   "id": "hundred-percentage",
   "metadata": {},
   "outputs": [
    {
     "name": "stdout",
     "output_type": "stream",
     "text": [
      " Second Function\n"
     ]
    }
   ],
   "source": [
    "def fun():   # 1st method \n",
    "    print(\" first method \")\n",
    "def fun():  # 2nd method \n",
    "    print(\" Second Function\")\n",
    "    \n",
    "fun()"
   ]
  },
  {
   "cell_type": "code",
   "execution_count": 24,
   "id": "invalid-harmony",
   "metadata": {},
   "outputs": [
    {
     "name": "stdout",
     "output_type": "stream",
     "text": [
      "I am Java Language \n",
      "I am Python language and i can also do data science\n"
     ]
    }
   ],
   "source": [
    "class parent:\n",
    "    def python(self):\n",
    "        print(\"I am python language\")\n",
    "class child(parent):\n",
    "    def java(self):\n",
    "        print(\"I am Java Language \")\n",
    "    def python(self):\n",
    "        print(\"I am Python language and i can also do data science\")\n",
    "obj = child()\n",
    "obj.java()\n",
    "obj.python()"
   ]
  },
  {
   "cell_type": "code",
   "execution_count": 25,
   "id": "deluxe-alcohol",
   "metadata": {},
   "outputs": [
    {
     "name": "stdout",
     "output_type": "stream",
     "text": [
      "5\n",
      "9\n"
     ]
    }
   ],
   "source": [
    "def add(x, y, z = 0):\n",
    "    return x + y + z  # 5\n",
    "\n",
    "\n",
    "print(add(2, 3))\n",
    "print(add(2, 3, 4))\n"
   ]
  },
  {
   "cell_type": "raw",
   "id": "polar-privacy",
   "metadata": {},
   "source": [
    "## java \n",
    "\n",
    "\n",
    "public static void main(int i)\n",
    "system.out.println(\"hi\")\n",
    "public static void main(string s)\n",
    "system.out.println(\"hi\")"
   ]
  },
  {
   "cell_type": "code",
   "execution_count": 28,
   "id": "attractive-semiconductor",
   "metadata": {},
   "outputs": [
    {
     "name": "stdout",
     "output_type": "stream",
     "text": [
      "120\n"
     ]
    }
   ],
   "source": [
    "# First product method.\n",
    "# Takes two argument and print their\n",
    "# product\n",
    "def product(a, b):\n",
    "\tp = a * b\n",
    "\tprint(p)\n",
    "\t\n",
    "# Second product method\n",
    "# Takes three argument and print their\n",
    "# product\n",
    "def product(a, b, c):\n",
    "\tp = a * b * c\n",
    "\tprint(p)\n",
    "\n",
    "# Uncommenting the below line shows an error\t\n",
    "#product(4, 5)\n",
    "\n",
    "# This line will call the second product method\n",
    "product(4, 5, 6)\n"
   ]
  },
  {
   "cell_type": "code",
   "execution_count": 29,
   "id": "third-jewelry",
   "metadata": {},
   "outputs": [
    {
     "name": "stdout",
     "output_type": "stream",
     "text": [
      "Nothing to find\n",
      "Area of square: 100\n",
      "Area of Rectangle: 200\n"
     ]
    }
   ],
   "source": [
    "class Area:\n",
    "    def find_area(self,a=None,b=None):\n",
    "        if a!=None and b!=None:\n",
    "            print(\"Area of Rectangle:\",(a*b))\n",
    "        elif a!=None:\n",
    "            print(\"Area of square:\",(a*a))\n",
    "        else:\n",
    "            print(\"Nothing to find\")\n",
    "obj1=Area()\n",
    "obj1.find_area()\n",
    "obj1.find_area(10)\n",
    "obj1.find_area(10,20)"
   ]
  },
  {
   "cell_type": "markdown",
   "id": "resident-moderator",
   "metadata": {},
   "source": [
    "- Abstraction\n",
    "- Encapsulation "
   ]
  },
  {
   "cell_type": "code",
   "execution_count": null,
   "id": "center-thinking",
   "metadata": {},
   "outputs": [],
   "source": []
  }
 ],
 "metadata": {
  "kernelspec": {
   "display_name": "Python 3",
   "language": "python",
   "name": "python3"
  },
  "language_info": {
   "codemirror_mode": {
    "name": "ipython",
    "version": 3
   },
   "file_extension": ".py",
   "mimetype": "text/x-python",
   "name": "python",
   "nbconvert_exporter": "python",
   "pygments_lexer": "ipython3",
   "version": "3.7.9"
  }
 },
 "nbformat": 4,
 "nbformat_minor": 5
}
